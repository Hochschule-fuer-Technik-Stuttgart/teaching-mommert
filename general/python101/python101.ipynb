{
 "cells": [
  {
   "attachments": {},
   "cell_type": "markdown",
   "metadata": {},
   "source": [
    "#  Python 101\n",
    "\n",
    "Michael Mommert, Stuttgart University of Applied Sciences, 2024\n",
    "\n",
    "This Notebook provides an introduction into Python programming. This Notebook is based on material published in the book [\"Python for Scientists\", 3rd edition, James M. Stewart & Michael Mommert, Cambridge University Press](https://www.cambridge.org/us/universitypress/subjects/mathematics/computational-science/python-scientists-3rd-edition)."
   ]
  },
  {
   "cell_type": "markdown",
   "metadata": {},
   "source": [
    "## Jupyter Notebooks\n",
    "\n",
    "Jupyter Notebooks are files that contain both programming code and human-readable text. They run on a **server** - either locally or in the cloud - allowing users (like you right now) to access and use a pre-defined programming environment with pre-installed modules and packages. \n",
    "\n",
    "The main advantage of Jupyter Notebooks is their unique character that mixes code elements with extensive documentation. This combination utilizes the concept of **cells** that either contain static content (like markdown text or other media) or code. The nature of a cell can be chosen from the corresponding menu (depends on the interface you are using)."
   ]
  },
  {
   "cell_type": "markdown",
   "metadata": {},
   "source": [
    "### Cells"
   ]
  },
  {
   "cell_type": "markdown",
   "metadata": {},
   "source": [
    "This very cell is a **markdown cell**, which only contains static text and may contain images and other things. [Markdown](https://en.wikipedia.org/wiki/Markdown) is an easy-to-use *markup* language (pun intended) that allows you to format text. \n",
    "\n",
    "You can modify the text by clicking into this cell (maybe twice, depending on the interface that you are using). Once you're done, \"run\" the cell by clicking the correponding button or by hitting `shift`+`enter` to render the output.\n",
    "\n",
    "For an overview on markdown, please refer to the [markdown cheat sheet](https://www.markdownguide.org/cheat-sheet/)."
   ]
  },
  {
   "cell_type": "markdown",
   "metadata": {},
   "source": [
    "The cell below is a **code cell** that contains Python code. To evaluate a code cell, hit the \"run\" button or press `shift`+`enter` on your keyboard. Evaluating a cell evaluates each line of code in sequence, and prints the result of the last line (if any) below the cell."
   ]
  },
  {
   "cell_type": "code",
   "execution_count": null,
   "metadata": {},
   "outputs": [],
   "source": [
    "40 + 2"
   ]
  },
  {
   "cell_type": "markdown",
   "metadata": {},
   "source": [
    "A code cell can contain several lines of code, but the result of the final line will be displayed on the screen (later, we will use the `print` function to display the results of several lines of code)."
   ]
  },
  {
   "cell_type": "code",
   "execution_count": null,
   "metadata": {},
   "outputs": [],
   "source": [
    "2 + 2\n",
    "3 + 3"
   ]
  },
  {
   "cell_type": "markdown",
   "metadata": {},
   "source": [
    "### How to Save a Notebook?"
   ]
  },
  {
   "cell_type": "markdown",
   "metadata": {},
   "source": [
    "Notebooks can be easily saved (`File/Save as`) locally or, depending on the interface you are using, into the cloud. Additionally, Notebooks in the cloud can also be downloaded (`File/Download as`) as plain Python scripts, PDFs, and a wide range of other file formats."
   ]
  },
  {
   "cell_type": "markdown",
   "metadata": {},
   "source": [
    "## Typing Python"
   ]
  },
  {
   "cell_type": "markdown",
   "metadata": {},
   "source": [
    "Let's learn a few things about how to type Python commands. \n",
    "\n",
    "First of all, **Python is case sensitive**. This means that it does matter whether you type `print()` or `Print()` (the latter will not work as you might intend). Nevertheless, Python leaves you a lot of options for how to name variables, functions etc. However, these names may not start with a number (but they may contain numbers). \n",
    "\n",
    "Furthermore, **(non-leading) whitespaces are not important**: to Python it does not matter whether you type `x = 3` or `x=3`. Either one does the same thing. However, be warned that **indentation matters a lot**. We will talk about this later.\n",
    "\n",
    "Finally, you can use comments in your code:"
   ]
  },
  {
   "cell_type": "code",
   "execution_count": 83,
   "metadata": {},
   "outputs": [],
   "source": [
    "# this is a line comment"
   ]
  },
  {
   "cell_type": "markdown",
   "metadata": {},
   "source": [
    "Anything that follows the `#` symbol will simply be ignored by Python. This is a good way to explain your code to others (or your future self) and to deactivate code bits. "
   ]
  },
  {
   "cell_type": "markdown",
   "metadata": {},
   "source": [
    "## Objects and identifiers"
   ]
  },
  {
   "cell_type": "markdown",
   "metadata": {},
   "source": [
    "Almost anything in Python is an object. An object is simply an artifact that has an **identifier** (a name).\n",
    "\n",
    "Let's create an object with identifier `p` and assign a value to it:"
   ]
  },
  {
   "cell_type": "code",
   "execution_count": 84,
   "metadata": {},
   "outputs": [],
   "source": [
    "p = 3.14"
   ]
  },
  {
   "cell_type": "markdown",
   "metadata": {},
   "source": [
    "There is no output, since the operation simply creates an object. We don't do anything with the object.\n",
    "\n",
    "Now, let's evaluate the object:"
   ]
  },
  {
   "cell_type": "code",
   "execution_count": null,
   "metadata": {},
   "outputs": [],
   "source": [
    "p"
   ]
  },
  {
   "cell_type": "markdown",
   "metadata": {},
   "source": [
    "What happens when we evaluate an object is that Python will simply replace the identifier (name) with the object (the actual stored information).\n",
    "\n",
    "Now, let's see when we create a new object, which we call `q` and assign it to `p`:"
   ]
  },
  {
   "cell_type": "code",
   "execution_count": 86,
   "metadata": {},
   "outputs": [],
   "source": [
    "q = p"
   ]
  },
  {
   "cell_type": "markdown",
   "metadata": {},
   "source": [
    "What is the value of `q`?"
   ]
  },
  {
   "cell_type": "code",
   "execution_count": null,
   "metadata": {},
   "outputs": [],
   "source": [
    "q"
   ]
  },
  {
   "cell_type": "markdown",
   "metadata": {},
   "source": [
    "Naturally, it's the same value as `p`.\n",
    "\n",
    "What happens now if we reassign `p`?"
   ]
  },
  {
   "cell_type": "code",
   "execution_count": null,
   "metadata": {},
   "outputs": [],
   "source": [
    "p = 'pi'\n",
    "p"
   ]
  },
  {
   "cell_type": "markdown",
   "metadata": {},
   "source": [
    "The value or identify of `p` has changed to `'pi'`. But what about `q`?"
   ]
  },
  {
   "cell_type": "code",
   "execution_count": null,
   "metadata": {},
   "outputs": [],
   "source": [
    "q"
   ]
  },
  {
   "cell_type": "markdown",
   "metadata": {},
   "source": [
    "`q` still contains its original value. Why is that? Python identifiers point directly to the object. By changing the value of `p`, the underlying object is untouched, since `q` is still pointing at it. Instead, a new object (`'pi'`) is created and the identifier `p` is now pointing at that.\n",
    "\n",
    "In the following, we will oftentimes refer to the identifier as a \"variable\"."
   ]
  },
  {
   "cell_type": "markdown",
   "metadata": {},
   "source": [
    "## Numbers\n",
    "\n",
    "Python contains a number of datatypes that you will use on a daily basis. Let's learn about numerical datatypes first.\n"
   ]
  },
  {
   "cell_type": "markdown",
   "metadata": {},
   "source": [
    "### Integers"
   ]
  },
  {
   "cell_type": "markdown",
   "metadata": {},
   "source": [
    "The integer datatype is used to store integer (\"whole\") numbers. These numbers can be positive or negative and there is no limit on the range.\n",
    "\n",
    "We define an identifier pointing to an integer value and check its type with the `type` function:"
   ]
  },
  {
   "cell_type": "code",
   "execution_count": null,
   "metadata": {},
   "outputs": [],
   "source": [
    "p = 2 \n",
    "type(p)"
   ]
  },
  {
   "cell_type": "markdown",
   "metadata": {},
   "source": [
    "Python tells us that `p` is indeed an integer object. \n",
    "\n",
    "Note here, that we are not required to explicitly define the datatype of `p`. Instead, Python checks internally, which datatype can store the value provided (`2`) in the most memory-efficient way. This process is called **dynamic typing** and this is one important datail that distinguishes Python from other programming languages.\n",
    "\n",
    "We can perform computations with `p`. For instance, we can perform additions:"
   ]
  },
  {
   "cell_type": "code",
   "execution_count": null,
   "metadata": {},
   "outputs": [],
   "source": [
    "p + 2"
   ]
  },
  {
   "cell_type": "markdown",
   "metadata": {},
   "source": [
    "This is correct. But what is the value of `p` now?"
   ]
  },
  {
   "cell_type": "code",
   "execution_count": null,
   "metadata": {},
   "outputs": [],
   "source": [
    "p"
   ]
  },
  {
   "cell_type": "markdown",
   "metadata": {},
   "source": [
    "It's still `2`. So how can we change the value of `p`?\n",
    "\n",
    "We have to assign the result of the computation to `p` again:"
   ]
  },
  {
   "cell_type": "code",
   "execution_count": null,
   "metadata": {},
   "outputs": [],
   "source": [
    "p = p + 2\n",
    "p"
   ]
  },
  {
   "cell_type": "markdown",
   "metadata": {},
   "source": [
    "Other mathematical operators are available, too. The most basic ones are addition (`+`), subtraction (`-`), multiplication (`*`) and division (`/`). Others include exponentiation (`**`), integer division (`//`) and the modulo operation (`%`). Furthermore, the usual bracket rules apply."
   ]
  },
  {
   "cell_type": "markdown",
   "metadata": {},
   "source": [
    "*Exercise*: Implement the following: define a variable `x` with value 5 and a variable `y` with value 25. Divide `y` through `x`, multiply the result with `2` and subtract `10`. Assign the result to variable `z` and display the value of z."
   ]
  },
  {
   "cell_type": "code",
   "execution_count": 150,
   "metadata": {},
   "outputs": [],
   "source": [
    "# enter your solution here"
   ]
  },
  {
   "cell_type": "markdown",
   "metadata": {},
   "source": [
    "### Real numbers"
   ]
  },
  {
   "cell_type": "markdown",
   "metadata": {},
   "source": [
    "To do meaningful computations, we need a datatype for real numbers. This datatype is called **float**. Any real number can be represented by a float value. \n",
    "\n",
    "Let's create a float variable and check its datatype:"
   ]
  },
  {
   "cell_type": "code",
   "execution_count": null,
   "metadata": {},
   "outputs": [],
   "source": [
    "a = 1.2\n",
    "type(a)"
   ]
  },
  {
   "cell_type": "markdown",
   "metadata": {},
   "source": [
    "We see dynamic typing at work again: Python realizes that the value to store is a real number. Real numbers cannot be stored as integers, so we need a more complex datatype to store the value. Hence, it uses the float datatype.\n",
    "\n",
    "This exact same mechanism is also at work when we apply arithmetic operations and the result of an operation has a higher complexity than the input. Consider the following example of a division involving two integer numbers:"
   ]
  },
  {
   "cell_type": "code",
   "execution_count": null,
   "metadata": {},
   "outputs": [],
   "source": [
    "type(5/2)"
   ]
  },
  {
   "cell_type": "markdown",
   "metadata": {},
   "source": [
    "Dividing `5` by `2` results in `2.5`, a value that cannot be stored as an integer. Python notices this and returns a float value, instead.\n",
    "\n",
    "Concerning arithmetic, the same operations that we learned for integers are available for floats.\n",
    "\n",
    "Finally, be aware, that there are different ways of \"typing\" float values. All of the following have the same value:"
   ]
  },
  {
   "cell_type": "code",
   "execution_count": null,
   "metadata": {},
   "outputs": [],
   "source": [
    "-3.14,  -314e-2, -314.0e-2, -0.00314E3"
   ]
  },
  {
   "cell_type": "markdown",
   "metadata": {},
   "source": [
    "### Booleans"
   ]
  },
  {
   "cell_type": "markdown",
   "metadata": {},
   "source": [
    "Booleans are binary values, they can only be `True` or `False`. Let's define some booleans:"
   ]
  },
  {
   "cell_type": "code",
   "execution_count": null,
   "metadata": {},
   "outputs": [],
   "source": [
    "a = True\n",
    "b = False\n",
    "a, b"
   ]
  },
  {
   "cell_type": "markdown",
   "metadata": {},
   "source": [
    "The output of any logical comparison is a boolean:"
   ]
  },
  {
   "cell_type": "code",
   "execution_count": null,
   "metadata": {},
   "outputs": [],
   "source": [
    "12 < 10"
   ]
  },
  {
   "cell_type": "markdown",
   "metadata": {},
   "source": [
    "The most important comparison operators are: less than (`<`), greater than (`>`), less than or equal to (`<=`), greater than or equal to (`>=`), equal to (`==`) and not equal to (`!=`).\n",
    "\n",
    "Such comparisons can be combined with logical operators. The most important operators are: `and`, `or` and `not`. \n",
    "\n",
    "Consider the following example:"
   ]
  },
  {
   "cell_type": "code",
   "execution_count": null,
   "metadata": {},
   "outputs": [],
   "source": [
    "not (10 < 12 or 1 > 2 or 1 == 0)"
   ]
  },
  {
   "cell_type": "markdown",
   "metadata": {},
   "source": [
    "We will use these operators and booleans later to control the flow of our program, e.g., using `if` statements."
   ]
  },
  {
   "cell_type": "markdown",
   "metadata": {},
   "source": [
    "## Container objects\n",
    "\n",
    "Container objects are more complex Python datatypes. Like a container in real life, they can store large amounts of stuff (or data). In the following, we will look at the most important container data types: lists, tuples and dictionaries. We will also introduce a text sequence datatype, strings.\n",
    "\n",
    "### Lists"
   ]
  },
  {
   "cell_type": "markdown",
   "metadata": {},
   "source": [
    "A list is simply an ordered and mutable sequence of objects:"
   ]
  },
  {
   "cell_type": "code",
   "execution_count": null,
   "metadata": {},
   "outputs": [],
   "source": [
    "[1, 4.0, 'a']"
   ]
  },
  {
   "cell_type": "markdown",
   "metadata": {},
   "source": [
    "Note how the items of the list are separated by commas and enclosed in a set of square brackets. The datatypes of the list items do not necessarily all have to be the same. Like in this example, we can mix integers with float and strings (`'a'`, we will introduce strings below).\n",
    "\n",
    "Using the same notation, we can create list objects:"
   ]
  },
  {
   "cell_type": "code",
   "execution_count": null,
   "metadata": {},
   "outputs": [],
   "source": [
    "u = [1, 4.0, 'a']\n",
    "v = [3.14, 2.78, u, 42]\n",
    "len(v)"
   ]
  },
  {
   "cell_type": "markdown",
   "metadata": {},
   "source": [
    "Since lists are a sequence, they have a length. The length can be extracted with the `len` function. The length of list `v` is 4, as it contains 4 elements or items - list `u` is one of these items.\n",
    "\n",
    "Some of the arithmetic operators that we introduced for integers are also defined for lists - but they work differently. For instance, the multiplication operator (`*`) can be used to replicate or repeat lists:"
   ]
  },
  {
   "cell_type": "code",
   "execution_count": null,
   "metadata": {},
   "outputs": [],
   "source": [
    "v*2"
   ]
  },
  {
   "cell_type": "markdown",
   "metadata": {},
   "source": [
    "Using the addition (`+`), we can concatenate lists:"
   ]
  },
  {
   "cell_type": "code",
   "execution_count": null,
   "metadata": {},
   "outputs": [],
   "source": [
    "v+u"
   ]
  },
  {
   "cell_type": "markdown",
   "metadata": {},
   "source": [
    "We can also append single elements to an existing list:"
   ]
  },
  {
   "cell_type": "code",
   "execution_count": null,
   "metadata": {},
   "outputs": [],
   "source": [
    "v.append('foo')\n",
    "v"
   ]
  },
  {
   "cell_type": "markdown",
   "metadata": {},
   "source": [
    "### List indexing"
   ]
  },
  {
   "cell_type": "markdown",
   "metadata": {},
   "source": [
    "Indexing is the mechanism that allows you to extract individual elements from our list. This is achieved in Python by naming the list and appending - in square brackets - the index to be extracted.\n",
    "\n",
    "Keep in mind, though, that the **first element of a list has the index zero**:"
   ]
  },
  {
   "cell_type": "code",
   "execution_count": null,
   "metadata": {},
   "outputs": [],
   "source": [
    "v[0]"
   ]
  },
  {
   "cell_type": "markdown",
   "metadata": {},
   "source": [
    "Using this mechanism, any element can be extracted from the list. Python also provides a convenient way to extract the final element of a list:"
   ]
  },
  {
   "cell_type": "code",
   "execution_count": null,
   "metadata": {},
   "outputs": [],
   "source": [
    "v[-1]"
   ]
  },
  {
   "cell_type": "markdown",
   "metadata": {},
   "source": [
    "Accessing elements not only allows you to extract them from the list, but also to exchange them. Simply assign a new value to the indexed element:"
   ]
  },
  {
   "cell_type": "code",
   "execution_count": null,
   "metadata": {},
   "outputs": [],
   "source": [
    "v[2] = 5\n",
    "v"
   ]
  },
  {
   "cell_type": "markdown",
   "metadata": {},
   "source": [
    "*Exercise*: From list `l`, defined in the following, what are the indices corresponding to the elements with values `'a'`, `5` and `'x'`? Alter the list in such a way that it only contains integer numbers from 1 to 9 in an ascending order. "
   ]
  },
  {
   "cell_type": "code",
   "execution_count": 111,
   "metadata": {},
   "outputs": [],
   "source": [
    "l = ['b', 4, 5, 'y', 1, 'a', 9, 2, 'x']\n",
    "\n",
    "# enter your solution here"
   ]
  },
  {
   "cell_type": "markdown",
   "metadata": {},
   "source": [
    "### List slicing"
   ]
  },
  {
   "cell_type": "markdown",
   "metadata": {},
   "source": [
    "The process of slicing is closely related to indexing. Instead of extracting individual elements, slicing will extract a \"slice\" from the list. The syntax is simply `list[start:stop]`, where `start` and `stop` are the indices that indicate the position of the slice. Mind the colon: it is important to distinguish slicing from indexing. Also, keep in mind that the slice will exclude the element with the  `stop` index."
   ]
  },
  {
   "cell_type": "code",
   "execution_count": null,
   "metadata": {},
   "outputs": [],
   "source": [
    "u = ['a', 'b', 'c', 'd', 'e', 'f', 'g', 'h', 'i']\n",
    "nu = u[2:6]\n",
    "nu"
   ]
  },
  {
   "cell_type": "markdown",
   "metadata": {},
   "source": [
    "Note how the extracted slice is again a list. It contains the `start` index (index 2, element `'c'`) but not the `end` index (index 6, element `'g'`).\n",
    "\n",
    "Python even allows you to leave out the `start` (if you want to start with the first element) or `end` index (if you want to go all the way to the end of the list) - or even both:"
   ]
  },
  {
   "cell_type": "code",
   "execution_count": null,
   "metadata": {},
   "outputs": [],
   "source": [
    "u[1:]"
   ]
  },
  {
   "cell_type": "code",
   "execution_count": null,
   "metadata": {},
   "outputs": [],
   "source": [
    "u[:5]"
   ]
  },
  {
   "cell_type": "markdown",
   "metadata": {},
   "source": [
    "For the sake of completeness: slicing also allows for providing a step size, so that the full syntax looks like this: `list[start:stop:step_size]`. This step size may have any integer value. To reverse a list, the step size may be negative:"
   ]
  },
  {
   "cell_type": "code",
   "execution_count": null,
   "metadata": {},
   "outputs": [],
   "source": [
    "u[::-1]"
   ]
  },
  {
   "cell_type": "markdown",
   "metadata": {},
   "source": [
    "Similar to indexing, slicing can also be used to replace slices:"
   ]
  },
  {
   "cell_type": "code",
   "execution_count": null,
   "metadata": {},
   "outputs": [],
   "source": [
    "u[2:5] = [3, 4, 5]\n",
    "u"
   ]
  },
  {
   "cell_type": "markdown",
   "metadata": {},
   "source": [
    "*Exercise*: Use list slicing to extract only the even numbers from list `l` as provided below."
   ]
  },
  {
   "cell_type": "code",
   "execution_count": 117,
   "metadata": {},
   "outputs": [],
   "source": [
    "l = [0, 1, 2, 3, 4, 5, 6]\n",
    "# enter your solution here"
   ]
  },
  {
   "cell_type": "markdown",
   "metadata": {},
   "source": [
    "### Tuples\n",
    "\n",
    "Tuples are similar to lists in that they can be used to store sequences in a fixed order.\n",
    "\n",
    "To create a tuple, the same mechanism as for lists can be used; only make sure to use parentheses `()` instead of square brackets `[]`:"
   ]
  },
  {
   "cell_type": "code",
   "execution_count": null,
   "metadata": {},
   "outputs": [],
   "source": [
    "t = (1, 2, 'a', 4.5)\n",
    "t"
   ]
  },
  {
   "cell_type": "markdown",
   "metadata": {},
   "source": [
    "The big difference between lists and tuples is that tuples are immutable - once created, we cannot alter them:"
   ]
  },
  {
   "cell_type": "code",
   "execution_count": 119,
   "metadata": {},
   "outputs": [],
   "source": [
    "# t[0] = 1  # uncommenting this line will cause a TypeError"
   ]
  },
  {
   "cell_type": "markdown",
   "metadata": {},
   "source": [
    "### Strings"
   ]
  },
  {
   "cell_type": "markdown",
   "metadata": {},
   "source": [
    "Strings are defined as sequences of characters. They must be enclosed either in single quotation marks (`'`) or double quotation marks (`\"`):"
   ]
  },
  {
   "cell_type": "code",
   "execution_count": 120,
   "metadata": {},
   "outputs": [],
   "source": [
    "s1 = \"It's time to go\"\n",
    "s2 = ' \"Bravo!\" he shouted.'"
   ]
  },
  {
   "cell_type": "markdown",
   "metadata": {},
   "source": [
    "Technically, strings are only lists of characters. Therefore, many of the same mechanisms that we learned for lists can be applied to strings:"
   ]
  },
  {
   "cell_type": "code",
   "execution_count": null,
   "metadata": {},
   "outputs": [],
   "source": [
    "len(s1)"
   ]
  },
  {
   "cell_type": "code",
   "execution_count": null,
   "metadata": {},
   "outputs": [],
   "source": [
    "s2[7]  # indexing"
   ]
  },
  {
   "cell_type": "code",
   "execution_count": null,
   "metadata": {},
   "outputs": [],
   "source": [
    "s1[5:9]  # slicing "
   ]
  },
  {
   "cell_type": "markdown",
   "metadata": {},
   "source": [
    "Strings also provide a number of useful methods that we can readily apply. For instance, the `split` method will chop a string into list of strings based on some delimiter. This is useful for extracting information from strings:"
   ]
  },
  {
   "cell_type": "code",
   "execution_count": null,
   "metadata": {},
   "outputs": [],
   "source": [
    "row = \"1,45,23.2,  London  ,2.45,#FF0000,16.3453\"\n",
    "l = row.split(',')\n",
    "l"
   ]
  },
  {
   "cell_type": "markdown",
   "metadata": {},
   "source": [
    "With `strip()`, we can remove leading an trailing whitespaces (or other characters):"
   ]
  },
  {
   "cell_type": "code",
   "execution_count": null,
   "metadata": {},
   "outputs": [],
   "source": [
    "l[3].strip()"
   ]
  },
  {
   "cell_type": "markdown",
   "metadata": {},
   "source": [
    "With `replace()`, we can replace substrings:"
   ]
  },
  {
   "cell_type": "code",
   "execution_count": null,
   "metadata": {},
   "outputs": [],
   "source": [
    "row.replace('#FF0000', 'red')"
   ]
  },
  {
   "cell_type": "markdown",
   "metadata": {},
   "source": [
    "*Exercise*: Consider the following string `s`, which contains a date and time. Use the `split` method, to extract the year, month, day, hour and minute into separate variables."
   ]
  },
  {
   "cell_type": "code",
   "execution_count": 127,
   "metadata": {},
   "outputs": [],
   "source": [
    "s = '2024-09-30 16:29'\n",
    "\n",
    "# enter your solution here"
   ]
  },
  {
   "cell_type": "markdown",
   "metadata": {},
   "source": [
    "### Dictionaries"
   ]
  },
  {
   "cell_type": "markdown",
   "metadata": {},
   "source": [
    "Dictionaries are container objects that consist of `key`-`value` pairs. Dictionaries work similar to a lookup-table. You can look up a `key` and retrieve the corresponding `value`. \n",
    "\n",
    "Let's define a simple dictionary:"
   ]
  },
  {
   "cell_type": "code",
   "execution_count": null,
   "metadata": {},
   "outputs": [],
   "source": [
    "params = {'alpha': 1.3, 'beta': 2.74}\n",
    "params"
   ]
  },
  {
   "cell_type": "markdown",
   "metadata": {},
   "source": [
    "We can now fetch existing dictionary items using a mechanism that looks very similar to indexing:"
   ]
  },
  {
   "cell_type": "code",
   "execution_count": null,
   "metadata": {},
   "outputs": [],
   "source": [
    "params['alpha']"
   ]
  },
  {
   "cell_type": "markdown",
   "metadata": {},
   "source": [
    "We can use the same mechanism to modify existing `keys`, or to create new `key`-`value` pairs:"
   ]
  },
  {
   "cell_type": "code",
   "execution_count": null,
   "metadata": {},
   "outputs": [],
   "source": [
    "params['alpha'] = 2.6\n",
    "params['gamma'] = 0.999\n",
    "params"
   ]
  },
  {
   "cell_type": "markdown",
   "metadata": {},
   "source": [
    "One note on dictionaries: every `key` can only occur once in a dictionary!"
   ]
  },
  {
   "cell_type": "markdown",
   "metadata": {},
   "source": [
    "## Python if statements"
   ]
  },
  {
   "cell_type": "markdown",
   "metadata": {},
   "source": [
    "`if` statements provide a means to control the flow of your program. Based on a **condition** (a comparison or any other object resulting in a boolean literal), the program decides to run one or more code lines in **block** statement, or it will skip those lines. One important Python detail is that all code lines that are part of the same block must follow a consistent **indentation**.\n",
    "\n",
    "Let's have a look at an an example:"
   ]
  },
  {
   "cell_type": "code",
   "execution_count": null,
   "metadata": {},
   "outputs": [],
   "source": [
    "a = 5\n",
    "\n",
    "if a > 5:  # check whether a > 5\n",
    "    print(\"a is greater than 5\")  # this block is only executed if the condition is True\n",
    " \n",
    "print(\"now we know the result and move on...\")  # this line follows after the if statement"
   ]
  },
  {
   "cell_type": "markdown",
   "metadata": {},
   "source": [
    "As you can tell from the output, the final code line (`print(\"now we know...`) is called, but not the `print` inside the `if` block. This is the case since the condition (`a > 5`) is not met. \n",
    "\n",
    "So, if we want to cover the other cases (`a == 5` and `a < 5`) as well, we need more `if` statements to check these conditions.\n",
    "\n",
    "However, there is a more elegant solution involving the keywords `elif` and `else`:\n"
   ]
  },
  {
   "cell_type": "code",
   "execution_count": null,
   "metadata": {},
   "outputs": [],
   "source": [
    "a = 5\n",
    "\n",
    "if a > 5:  # checks whether a > 5\n",
    "    print(\"a is greater than 5\")\n",
    "elif a < 5:  # if a is not greater than 5, check whether a < 5\n",
    "    print(\"a is less than 5\")\n",
    "else:  # this keyword catches all remaining cases\n",
    "    print(\"a is equal to 5\")\n",
    "    \n",
    "print(\"now we know the result and move on...\")"
   ]
  },
  {
   "cell_type": "markdown",
   "metadata": {},
   "source": [
    "What happens here is the following:\n",
    "\n",
    "The original `if` statement (`if a > 5:`) is called. Of course, the result of the comparison is `False`, so the corresponding block is skipped.\n",
    "\n",
    "Next, Python encounters the line `elif a < 5`. `elif` stands for \"else if\". This is an elegant way to check for a second condition if, and only if, the initial `if` condition is not met. The number of `elif`s in each `if` statement is not restricted - you can add as many as you like.\n",
    "\n",
    "Finally, the `else` statement serves as a catch-all. If the original `if` and all `elif` conditions are not met, the `else`-block will be executed. "
   ]
  },
  {
   "cell_type": "markdown",
   "metadata": {},
   "source": [
    "*Exercise*: Write a program that checks whether string `s` (see below) is longer than 5 characters. If it is longer than 5 characters, print the word `long` on the screen and `short` otherwise."
   ]
  },
  {
   "cell_type": "code",
   "execution_count": 151,
   "metadata": {},
   "outputs": [],
   "source": [
    "s = 'test'\n",
    "\n",
    "# enter your solution here"
   ]
  },
  {
   "cell_type": "markdown",
   "metadata": {},
   "source": [
    "## Loops\n",
    "\n",
    "Loops are a feature that enables one more more code lines to be rerun multiple times."
   ]
  },
  {
   "cell_type": "markdown",
   "metadata": {},
   "source": [
    "In Python, the `for` loop allows for iterating over a sequence (e.g., a list) and running a code block on each element of the list:"
   ]
  },
  {
   "cell_type": "code",
   "execution_count": null,
   "metadata": {},
   "outputs": [],
   "source": [
    "l = [1, 2, 3, 'a', 'b', 'c']\n",
    "\n",
    "for x in l:\n",
    "    print(x)"
   ]
  },
  {
   "cell_type": "markdown",
   "metadata": {},
   "source": [
    "The output is easily explained: the value of `x` varies as it iterates over list `l`. Each value of `x` is printed on the screen.\n",
    "\n",
    "\n",
    "Python provides a useful function to create a sequence of integers, usually starting at zero, up to some value:"
   ]
  },
  {
   "cell_type": "code",
   "execution_count": null,
   "metadata": {},
   "outputs": [],
   "source": [
    "for i in range(5):\n",
    "    print(i)"
   ]
  },
  {
   "cell_type": "markdown",
   "metadata": {},
   "source": [
    "A different loop implementation is represented by the `while` loop. Here, the loop iterates until a condition is met. Let's have a look at an example:"
   ]
  },
  {
   "cell_type": "code",
   "execution_count": null,
   "metadata": {},
   "outputs": [],
   "source": [
    "i = 0\n",
    "\n",
    "while i < 5:\n",
    "    print(i)\n",
    "    i += 1\n",
    "    \n",
    "print('done!')"
   ]
  },
  {
   "cell_type": "markdown",
   "metadata": {},
   "source": [
    "Care should be taken with using `while True`: while, technically, this is possible, it may leed to infinite loops. \n",
    "\n",
    "To better control loops, two important keywords are available, `continue` and `break`. Let's see what they do:"
   ]
  },
  {
   "cell_type": "code",
   "execution_count": null,
   "metadata": {},
   "outputs": [],
   "source": [
    "for i in range(10):\n",
    "    if i == 5:\n",
    "        continue\n",
    "    print(i)\n",
    "    \n",
    "print('done!')"
   ]
  },
  {
   "cell_type": "markdown",
   "metadata": {},
   "source": [
    "It seems that the loop counts from 0 to 9, but if you look carefully you will find that 5 is missing from the list. What happened? \n",
    "\n",
    "Once the value of `i` reaches 5, the `if` statement leads to the `continue` keyword. What this keyword really does is that it stops the current iteration of the loop (either `for` or `while`) and immediately commences the next iteration. As a result, the code line `print(i)` is not being called when `i` has the value of 5.\n",
    "\n",
    "The `break` keyword has a very different outcome in the same situation:"
   ]
  },
  {
   "cell_type": "code",
   "execution_count": null,
   "metadata": {},
   "outputs": [],
   "source": [
    "for i in range(10):\n",
    "    if i == 5:\n",
    "        break\n",
    "    print(i)\n",
    "    \n",
    "print('done!')"
   ]
  },
  {
   "cell_type": "markdown",
   "metadata": {},
   "source": [
    "What happens here is that upon `i` reaching the value of 5, `break` is invoked. As a result, the current loop iteration and all future iterations are aborted immediately."
   ]
  },
  {
   "cell_type": "markdown",
   "metadata": {},
   "source": [
    "*Exercise*: Loop through the numbers 0 to 19 (use `range(20)`) and print only every third number. "
   ]
  },
  {
   "cell_type": "code",
   "execution_count": 139,
   "metadata": {},
   "outputs": [],
   "source": [
    "# enter your solution here"
   ]
  },
  {
   "cell_type": "markdown",
   "metadata": {},
   "source": [
    "## Functions\n",
    "\n",
    "Functions are a useful way to encapsulate code and functionality in a very modular way. \n",
    "\n",
    "In the following, we define a very simple function:"
   ]
  },
  {
   "cell_type": "code",
   "execution_count": 140,
   "metadata": {},
   "outputs": [],
   "source": [
    "def add_one(x):\n",
    "    \"\"\" Takes x and returns x + 1. \"\"\"\n",
    "    x += 1\n",
    "    return x"
   ]
  },
  {
   "cell_type": "markdown",
   "metadata": {},
   "source": [
    "The function definition consists of the `def` keyword, the function name and, in parentheses, the function arguments (this function has only a single positional argument). The following indented block defines what the function does and which typically finishes with a `return` statement.\n",
    "\n",
    "The line containing `\"\"\"` is called the **docstring**: it serves as a brief outline of what the function does. The docstring can be used provide a full documentation of the function.\n",
    "\n",
    "Let's call this function:"
   ]
  },
  {
   "cell_type": "code",
   "execution_count": null,
   "metadata": {},
   "outputs": [],
   "source": [
    "add_one(4)"
   ]
  },
  {
   "cell_type": "markdown",
   "metadata": {},
   "source": [
    "This looks simple. The function call is simply replaced by the value provided to the `return` statement.\n",
    "\n",
    "Let's have a closer look. The function contains a variable `x`. What happens when we already have a variable named `x` in our program?"
   ]
  },
  {
   "cell_type": "code",
   "execution_count": null,
   "metadata": {},
   "outputs": [],
   "source": [
    "x = 3\n",
    "\n",
    "add_one(4)\n",
    "\n",
    "x"
   ]
  },
  {
   "cell_type": "markdown",
   "metadata": {},
   "source": [
    "The value of `x` is still 3. Why did it not change? Because the `x` in the function is not necessarily the same `x` as outside. In Python there is the concept of **namespaces**: each object has a specific namespace, a space in the program where it exists. Objects of the same name can exist in different namespaces, not affecting each other. This reduces confusion and makes coding easier. \n",
    "\n",
    "Let's have a look at the function arguments. There are two types of arguments:\n",
    "\n",
    "* **positional arguments**: they are required to run the function and are simply identified based on their position (1st argument, 2nd argument, etc.) \n",
    "* **keyword arguments** : they are optional in running a function and have to be called explicitly by name.\n",
    "\n",
    "Let's have a look at an example:"
   ]
  },
  {
   "cell_type": "code",
   "execution_count": 143,
   "metadata": {},
   "outputs": [],
   "source": [
    "def some_math(a, b, c=0, d=1):\n",
    "    return (a + 2*b + c) * d"
   ]
  },
  {
   "cell_type": "markdown",
   "metadata": {},
   "source": [
    "This function contains a total of 4 arguments: 2 positional arguments and 2 keyword arguments. Positional arguments must be defined before the keyword arguments are defined. Note that the keyword arguments have \"default\" values; if the function is called without explicit values for the keyword arguments, these default values are used."
   ]
  },
  {
   "cell_type": "markdown",
   "metadata": {},
   "source": [
    "## Classes\n",
    "\n",
    "Python is an object oriented programming language, which means that it supports the concepts of classes and inheritance. \n",
    "\n",
    "A class is an abstract template to generate objects. Objects of the same class have the same structure. **Methods** are functions that are related to objects and allow these objects to do things, **attributes** allow them to have properties. This sounds pretty abstract, so let's have a look at an example.\n",
    "\n",
    "Consider a class `Animal` (class names are capitalized). There are many different types of animals, but they all have in common (among many other things) that they eat food and, as a result of that, they gain weight. We can consider `eat`ing a method and `weight` an attribute of class `Animal`. Let's implement this as a Python class: "
   ]
  },
  {
   "cell_type": "code",
   "execution_count": 144,
   "metadata": {},
   "outputs": [],
   "source": [
    "class Animal():\n",
    "    # this is the constructor; we can give our animal a name\n",
    "    def __init__(self, name):\n",
    "        self.name = name\n",
    "        self.weight = 1\n",
    "\n",
    "    # this is our eat class; we can provide an amount for the food eaten\n",
    "    def eat(self, amount):\n",
    "        print('yum!')\n",
    "        self.weight += amount"
   ]
  },
  {
   "cell_type": "markdown",
   "metadata": {},
   "source": [
    "The class has two methods: `__init__`, which is called the constructor and `eat`. \n",
    "\n",
    "Method `eat` is quickly explained. Whenever we call it, the animal expresses `yum!` and gains weight. To understand `self.weight`, we have to look at the constructor. \n",
    "\n",
    "The constructor looks somewhat funny, but it is very important: whenever we instantiate an object of class `animal`, the constructor method is called. In this case, the constructor has two arguments: `self` and `name`. The latter is simply the name that we provide to the instance. `self` is a bit more complicated: it is a reference to the instance itself. Its meaning becomes a bit clearer if we look the following lines. We assign attributes `name` and `weight` to `self`. The weight of our animal is simply fixed at the beginning, the name is as provided during instantiation. These attributes belong to the instance, not the class.\n",
    "\n",
    "Let's have a look at what all this means. We instantiate two object of class `Animal`, one we call `dog` and one we call `cat`:"
   ]
  },
  {
   "cell_type": "code",
   "execution_count": 145,
   "metadata": {},
   "outputs": [],
   "source": [
    "dog = Animal('Rover')\n",
    "cat = Animal('Felix')"
   ]
  },
  {
   "cell_type": "markdown",
   "metadata": {},
   "source": [
    "We can ask both animals for their names, by simply querying this attribute:"
   ]
  },
  {
   "cell_type": "code",
   "execution_count": null,
   "metadata": {},
   "outputs": [],
   "source": [
    "print(dog.name, cat.name)"
   ]
  },
  {
   "cell_type": "markdown",
   "metadata": {},
   "source": [
    "The line `self.name = name` in the class constructor therefore creates an attribute of the instance (note how `self.name` is related to the instance, not the class).\n",
    "\n",
    "Now, let's feed our dog and then check its weight:"
   ]
  },
  {
   "cell_type": "code",
   "execution_count": null,
   "metadata": {},
   "outputs": [],
   "source": [
    "dog.eat(5)\n",
    "print('the dog weighs', dog.weight)\n",
    "print('the cat weighs', cat.weight)\n"
   ]
  },
  {
   "cell_type": "markdown",
   "metadata": {},
   "source": [
    "By calling the `eat` method for the dog, the dog gains weight. But the cat is not touched by the dog eating. \n",
    "\n",
    "This is a very simplified example, but it showcases some of the advantages of object-oriented programming.\n",
    "\n",
    "Before we finish our quick introduction into classes, there is one more concept that we should touch on: **inheritance**. Classes can inherit methods and attributes from parent classes. \n",
    "\n",
    "To stay in the animal kingdom picture, we will create a class `bird` that inherits from class `Animal`:"
   ]
  },
  {
   "cell_type": "code",
   "execution_count": 148,
   "metadata": {},
   "outputs": [],
   "source": [
    "class Bird(Animal):\n",
    "    \n",
    "    def chirp(self):\n",
    "        print('chirp, chirp!')"
   ]
  },
  {
   "cell_type": "markdown",
   "metadata": {},
   "source": [
    "This is a very simple class, it does not even have a constructor. But this is not really true. By defining `class Bird(Animal)`, we specify that class `Bird` inherits all methods and attributes from class `Animal`. As a result, if we instantiate a `Bird`, the `Animal` constructor is automatically called and it shares the same methods and attributes:"
   ]
  },
  {
   "cell_type": "code",
   "execution_count": null,
   "metadata": {},
   "outputs": [],
   "source": [
    "pigeon = Bird('steve')\n",
    "pigeon.chirp()\n",
    "pigeon.eat(1)\n",
    "print(pigeon.weight)"
   ]
  },
  {
   "cell_type": "markdown",
   "metadata": {},
   "source": [
    "As you can see, our `pigeon` can `eat` and `chirp`!"
   ]
  },
  {
   "cell_type": "markdown",
   "metadata": {},
   "source": [
    "## Modules\n",
    "\n",
    "Modules (also called packages) are a way to store working code into separate files. These files can be imported into a Python environment and the code stored there can be used.\n",
    "\n",
    "Python comes with a number of basic modules for different applications and a vast number of external modules is also available.\n",
    "\n",
    "To showcase the use of modules, we will use the `math` modules, which contains some mathematical functions."
   ]
  },
  {
   "cell_type": "code",
   "execution_count": 152,
   "metadata": {},
   "outputs": [],
   "source": [
    "import math"
   ]
  },
  {
   "cell_type": "markdown",
   "metadata": {},
   "source": [
    "We can get a list of all the objects available in the `math` namespace:"
   ]
  },
  {
   "cell_type": "code",
   "execution_count": null,
   "metadata": {},
   "outputs": [],
   "source": [
    "dir(math)"
   ]
  },
  {
   "cell_type": "markdown",
   "metadata": {},
   "source": [
    "There is, for instance, the cosine function, `cos`, and `pi`. Let's combine those two. To use an object from `math`, we also have to name that namespace:"
   ]
  },
  {
   "cell_type": "code",
   "execution_count": null,
   "metadata": {},
   "outputs": [],
   "source": [
    "math.cos(math.pi)"
   ]
  },
  {
   "cell_type": "markdown",
   "metadata": {},
   "source": [
    "In case you plan to use only a small subject of functions or objects from that namespace, you can only import those things that you really need:"
   ]
  },
  {
   "cell_type": "code",
   "execution_count": null,
   "metadata": {},
   "outputs": [],
   "source": [
    "from math import cos, pi\n",
    "\n",
    "cos(pi)"
   ]
  },
  {
   "cell_type": "markdown",
   "metadata": {},
   "source": [
    "However, you should be careful not to import things that already exist in your namespace - these object would be overwritten by that import."
   ]
  }
 ],
 "metadata": {
  "kernelspec": {
   "display_name": "Python 3",
   "language": "python",
   "name": "python3"
  },
  "language_info": {
   "codemirror_mode": {
    "name": "ipython",
    "version": 3
   },
   "file_extension": ".py",
   "mimetype": "text/x-python",
   "name": "python",
   "nbconvert_exporter": "python",
   "pygments_lexer": "ipython3",
   "version": "3.11.5"
  },
  "toc": {
   "base_numbering": 1,
   "nav_menu": {},
   "number_sections": false,
   "sideBar": true,
   "skip_h1_title": false,
   "title_cell": "Table of Contents",
   "title_sidebar": "Contents",
   "toc_cell": false,
   "toc_position": {},
   "toc_section_display": true,
   "toc_window_display": false
  }
 },
 "nbformat": 4,
 "nbformat_minor": 4
}
