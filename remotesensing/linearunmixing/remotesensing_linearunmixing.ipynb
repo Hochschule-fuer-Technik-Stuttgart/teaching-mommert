{
 "cells": [
  {
   "cell_type": "markdown",
   "metadata": {},
   "source": [
    "# Linear Unmixing for Sentinel-2 Satellite Imagery\n",
    "\n",
    "Michael Mommert, Stuttgart University of Applied Sciences, 2025\n",
    "\n",
    "This Notebook introduces the concepts of linear unmixing for multispectral Sentinel-2 imaging data. Using a very simple example, we showcase an unmixing method for three distinct materials based on least-squares fitting."
   ]
  },
  {
   "cell_type": "code",
   "execution_count": null,
   "metadata": {},
   "outputs": [],
   "source": [
    "import os\n",
    "import zipfile\n",
    "\n",
    "import numpy as np\n",
    "import matplotlib.pyplot as plt\n",
    "from scipy.linalg import lstsq\n",
    "from scipy.optimize import fmin_slsqp"
   ]
  },
  {
   "cell_type": "markdown",
   "metadata": {},
   "source": [
    "## Data Download\n",
    "\n",
    "We will download a small sample dataset containing Sentinel-2 satellite imagery and unpack the dataset:"
   ]
  },
  {
   "cell_type": "code",
   "execution_count": null,
   "metadata": {},
   "outputs": [],
   "source": [
    "# download dataset\n",
    "!wget https://zenodo.org/records/12819787/files/sentinel2_coastal_scenes.zip?download=1 -O sentinel2.zip\n",
    "\n",
    "import zipfile\n",
    "\n",
    "# extract dataset zipfile\n",
    "with zipfile.ZipFile('sentinel2.zip', 'r') as zip_ref:\n",
    "    zip_ref.extractall('./')\n"
   ]
  },
  {
   "cell_type": "markdown",
   "metadata": {},
   "source": [
    "We read in all images from the dataset into a single NumPy array:"
   ]
  },
  {
   "cell_type": "code",
   "execution_count": null,
   "metadata": {},
   "outputs": [],
   "source": [
    "data = []\n",
    "for filename in sorted(os.listdir('data/')):\n",
    "    if filename.endswith('.npy'):\n",
    "        data.append(np.load(open(os.path.join('data', filename), 'rb'), allow_pickle=True))\n",
    "data = np.array(data)"
   ]
  },
  {
   "cell_type": "markdown",
   "metadata": {},
   "source": [
    "The `data` array is built up in such a way that it contains 5 images, 12 bands per image and each image has a height of 120 pixels and a width of 120 pixels. This dimensionality is reflected by the shape of the array:"
   ]
  },
  {
   "cell_type": "code",
   "execution_count": null,
   "metadata": {},
   "outputs": [],
   "source": [
    "data.shape"
   ]
  },
  {
   "cell_type": "markdown",
   "metadata": {},
   "source": [
    "Let's plot one of the images."
   ]
  },
  {
   "cell_type": "code",
   "execution_count": null,
   "metadata": {},
   "outputs": [],
   "source": [
    "i = 3  # image id\n",
    "\n",
    "# first, we extract the R, G and B bands and stack them into the shape [120, 120, 3]\n",
    "img = np.dstack([data[i][3], data[i][2], data[i][1]])\n",
    "\n",
    "# then we normalize the pixel values in such a way that they range from 0 (min) to 1 (max)\n",
    "img = (img-np.min(img, axis=(0,1)))/(np.max(img, axis=(0,1)) - np.min(img, axis=(0,1)))\n",
    "\n",
    "# now we can plot the image\n",
    "plt.imshow(img)"
   ]
  },
  {
   "cell_type": "markdown",
   "metadata": {},
   "source": [
    "We pick a pixel in that area of the image that is seemingly covered by grass and plot its spectral distribution. Note that the coordinate notation is [row, column]."
   ]
  },
  {
   "cell_type": "code",
   "execution_count": null,
   "metadata": {},
   "outputs": [],
   "source": [
    "# define band names and central wavelengths\n",
    "bands = ['B01', 'B02', 'B03', 'B04', 'B05', 'B06', 'B07', 'B08', 'B8A', 'B09', 'B11', 'B12']\n",
    "band_lambdas = [442.7, 492.4, 559.8, 664.6, 704.1, 740.5, 782.8, 832.8, 864.7, 945.1, 1613.7, 2202.4]\n",
    "\n",
    "sample = data[3, :, 70, 40]/10000 # divide by 10k to produce spectral reflectance\n",
    "\n",
    "plt.plot(bands, sample)\n",
    "plt.xlabel('Band')\n",
    "plt.ylabel('Spectral Reflectance')"
   ]
  },
  {
   "cell_type": "markdown",
   "metadata": {},
   "source": [
    "Naturally, this plot will look different if we plot the spectral reflectance as a function of the bands' central wavelengths."
   ]
  },
  {
   "cell_type": "code",
   "execution_count": null,
   "metadata": {},
   "outputs": [],
   "source": [
    "plt.plot(band_lambdas, sample)\n",
    "plt.xlabel('Wavelength (micron)')\n",
    "plt.ylabel('Spectral Reflectance')"
   ]
  },
  {
   "cell_type": "markdown",
   "metadata": {},
   "source": [
    "We define some reference materials against which we can compare this spectrum: grass, soil and concrete)."
   ]
  },
  {
   "cell_type": "code",
   "execution_count": null,
   "metadata": {},
   "outputs": [],
   "source": [
    "# matrix containing reference spectral reflectances of grass, soil and concrete (columns, from Copernicus Browser)\n",
    "A = np.array(\n",
    "    [[0.0406, 0.0522, 0.2932],\n",
    "\t [0.0434, 0.0847, 0.3085],\n",
    "\t [0.1097, 0.1496, 0.3371],\n",
    "\t [0.0451, 0.2154, 0.3469],\n",
    "\t [0.1720, 0.2328, 0.3498],\n",
    "\t [0.3990, 0.2480, 0.3528],\n",
    "\t [0.4765, 0.2612, 0.3538],\n",
    "\t [0.4937, 0.2737, 0.3478],\n",
    "\t [0.5042, 0.2801, 0.3419],\n",
    "\t [0.4974, 0.3015, 0.3366],\n",
    "\t [0.3067, 0.4020, 0.3040],\n",
    "\t [0.1709, 0.4028, 0.2221]])"
   ]
  },
  {
   "cell_type": "markdown",
   "metadata": {},
   "source": [
    "Now we can compare our pixel spectrum to these reference spectra."
   ]
  },
  {
   "cell_type": "code",
   "execution_count": null,
   "metadata": {},
   "outputs": [],
   "source": [
    "plt.plot(band_lambdas, sample, label='sample')\n",
    "plt.xlabel('Wavelength (micron)')\n",
    "plt.ylabel('Spectral Reflectance')\n",
    "\n",
    "plt.plot(band_lambdas, A[:, 0], color='green', label='grass')\n",
    "plt.plot(band_lambdas, A[:, 1], color='brown', label='soil')\n",
    "plt.plot(band_lambdas, A[:, 2], color='gray', label='concrete')\n",
    "plt.legend()"
   ]
  },
  {
   "cell_type": "markdown",
   "metadata": {},
   "source": [
    "Our sample clearly shows the characteristic red edge behavior that is indicative of vegetation. But the spectral reflectance is significantly lower. **Why?**"
   ]
  },
  {
   "cell_type": "markdown",
   "metadata": {},
   "source": [
    "**Exercise**: Scale the grass reference spectrum by a constant factor to make it fit the sample spectrum by eye. The factor tells you how much lower the reflectance of our sample is compared to the reference spectrum of grass."
   ]
  },
  {
   "cell_type": "code",
   "execution_count": null,
   "metadata": {},
   "outputs": [],
   "source": [
    "# use this cell for the exercise"
   ]
  },
  {
   "cell_type": "markdown",
   "metadata": {},
   "source": [
    "## Linear Unmixing\n",
    "\n",
    "We apply linear unmixing to reproduce the spectral signature of our sample.\n",
    "\n",
    "First, create a function that outputs the modeled spectral signature based on an input vector x that reflects the abundances of the three considered materials: grass, soil and concrete."
   ]
  },
  {
   "cell_type": "code",
   "execution_count": null,
   "metadata": {},
   "outputs": [],
   "source": [
    "def model(x):\n",
    "    \"\"\"Output model spectrum given x.\"\"\"\n",
    "    return np.matmul(A, x)"
   ]
  },
  {
   "cell_type": "markdown",
   "metadata": {},
   "source": [
    "For a given abundance vector, we obtain a model spectrum."
   ]
  },
  {
   "cell_type": "code",
   "execution_count": null,
   "metadata": {},
   "outputs": [],
   "source": [
    "model([0, 1, 0])"
   ]
  },
  {
   "cell_type": "markdown",
   "metadata": {},
   "source": [
    "Let's plot this spectrum."
   ]
  },
  {
   "cell_type": "code",
   "execution_count": null,
   "metadata": {},
   "outputs": [],
   "source": [
    "plt.plot(band_lambdas, sample, label='sample')\n",
    "plt.xlabel('Wavelength (micron)')\n",
    "plt.ylabel('Spectral Reflectance')\n",
    "\n",
    "plt.plot(band_lambdas, model([0, 1, 0]), color='red', label='model')\n",
    "plt.legend()"
   ]
  },
  {
   "cell_type": "markdown",
   "metadata": {},
   "source": [
    "There is not much resemblance of our sample and a model that contains only soil...\n",
    "\n",
    "**Exercise**: Reuse the previous cell and modify the abundance vector manually to fit a suitable model to our sample pixel. What does x look like?"
   ]
  },
  {
   "cell_type": "code",
   "execution_count": null,
   "metadata": {},
   "outputs": [],
   "source": [
    "# use this cell for the exercise"
   ]
  },
  {
   "cell_type": "markdown",
   "metadata": {},
   "source": [
    "Now we will take a more systematic approach and use a least-squares fitting method to find the best-fit x. \n",
    "\n",
    "What least-squares fitting does is to minimize the squared errors between our model and the measured sample spectrum. For this purpose, we use a fitting routine, which aims to minimize a function based on a number of function parameters (in our case: the abundance vector). Once a set of suitable abundances are found that minimize the squared errors, this vector is output.\n",
    "\n",
    "Our `model` function currently only outputs a model spectrum based on a given abundance vector. Therefore, we need a second function, which we will call `squared_residuals` that will output the sum over the squared residuals between our sample spectrum and the model spectrum based on an abundance vector. It is this function that we will minimize in the following."
   ]
  },
  {
   "cell_type": "code",
   "execution_count": null,
   "metadata": {},
   "outputs": [],
   "source": [
    "def squared_residuals(x):\n",
    "    \"\"\"Compute and sum up squared residuals between `sample` and `model(x)`.\"\"\"\n",
    "    return np.sum((model(x)-sample)**2)\n",
    "\n",
    "res = fmin_slsqp(squared_residuals,  # the function which we will minimize (note that we don't pass any arguments to this function)\n",
    "                 [0, 0, 0],  # an initial guess for our abundace vector (could be anything)\n",
    "                 bounds=((0, 1), (0, 1), (0, 1)))  # the bounding conditions: each element of x must have a value between 0 and 1\n",
    "res"
   ]
  },
  {
   "cell_type": "markdown",
   "metadata": {},
   "source": [
    "The values of the resulting abundance vector are shown above. We see that the abundance of grass is high (58%), but the abundaces of soil and concrete are zero. Is it a problem that the sum of all abundances is less than unity? Not necessarily. Think of it in the following way: our fitting process finds a 100% abundance of grass, but no soil or concrete in this pixel. We can interpret the 58% value as a modulation of the overall reflectance of the materials in this pixel (the grass in this pixel might be of a different species that has as 58% lower reflectance than the grass that was used in the reference spectrum.) \n",
    "\n",
    "Let's plot the model spectrum and compare it to the sample spectrum."
   ]
  },
  {
   "cell_type": "code",
   "execution_count": null,
   "metadata": {},
   "outputs": [],
   "source": [
    "plt.plot(band_lambdas, sample, label='sample')\n",
    "plt.xlabel('Wavelength (micron)')\n",
    "plt.ylabel('Spectral Reflectance')\n",
    "\n",
    "plt.plot(band_lambdas, model(res), color='red', label='model')\n",
    "plt.legend()"
   ]
  },
  {
   "cell_type": "markdown",
   "metadata": {},
   "source": [
    "This looks good. The agreement of the model and sample spectra is good, especially at short wavelengths. The discrepancy at longer wavelengths is clear, but may simply be related to different plant species. \n",
    "\n",
    "**Exercise**: Pick a sand sample pixel and model its spectral properties using the same method. What are the spectral abundances?"
   ]
  },
  {
   "cell_type": "code",
   "execution_count": null,
   "metadata": {},
   "outputs": [],
   "source": [
    "# use this cell for the exercise"
   ]
  },
  {
   "cell_type": "markdown",
   "metadata": {},
   "source": [
    "**Exercise**: Consider the following sample pixel and derive the spectral abundances. How do you interpret this information with respect to the underlying land cover?"
   ]
  },
  {
   "cell_type": "code",
   "execution_count": null,
   "metadata": {},
   "outputs": [],
   "source": [
    "sample = data[3, :, 83, 36]/10000 # divide by 10k to produce spectral reflectance\n",
    "\n",
    "# use this cell for the exercise"
   ]
  },
  {
   "cell_type": "markdown",
   "metadata": {},
   "source": [
    "So far, we have only considered single sample pixels. Let's go one step further an derive the mean spectral properties for an area. We pick an area of grassland and average the pixel values across the spectral bands."
   ]
  },
  {
   "cell_type": "code",
   "execution_count": null,
   "metadata": {},
   "outputs": [],
   "source": [
    "sample = np.average(data[3, :, 70:80, 40:60], axis=(1,2))/10000\n",
    "sample"
   ]
  },
  {
   "cell_type": "markdown",
   "metadata": {},
   "source": [
    "Naturally, we can model the spectral abundances across this area in exactly the same way that we did for a single pixel:"
   ]
  },
  {
   "cell_type": "code",
   "execution_count": null,
   "metadata": {},
   "outputs": [],
   "source": [
    "\n",
    "res = fmin_slsqp(squared_residuals, \n",
    "                 [0, 0, 0],\n",
    "                 bounds=((0, 1), (0, 1), (0, 1)))\n",
    "print('abundances', res)\n",
    "\n",
    "plt.plot(band_lambdas, sample, label='sample')\n",
    "plt.xlabel('Wavelength (micron)')\n",
    "plt.ylabel('Spectral Reflectance')\n",
    "\n",
    "plt.plot(band_lambdas, model(res), color='red', label='model')\n",
    "plt.legend()"
   ]
  },
  {
   "cell_type": "markdown",
   "metadata": {},
   "source": [
    "As you can see, the model fits the data extremely well for the short wavelengths. This may well be since we are averaging over a large number of pixels (and spectra)."
   ]
  }
 ],
 "metadata": {
  "kernelspec": {
   "display_name": "base",
   "language": "python",
   "name": "python3"
  },
  "language_info": {
   "codemirror_mode": {
    "name": "ipython",
    "version": 3
   },
   "file_extension": ".py",
   "mimetype": "text/x-python",
   "name": "python",
   "nbconvert_exporter": "python",
   "pygments_lexer": "ipython3",
   "version": "3.12.7"
  }
 },
 "nbformat": 4,
 "nbformat_minor": 2
}
