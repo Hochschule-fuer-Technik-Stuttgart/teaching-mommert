{
 "cells": [
  {
   "cell_type": "markdown",
   "metadata": {},
   "source": [
    "# Thermal Imaging Data Post-Processing\n",
    "\n",
    "Michael Mommert, Stuttgart University of Applied Sciences, 2024\n",
    "\n",
    "In this Notebook, we explore the post-processing and analysis of thermal imaging data using the *flyr* module. Based on sample images, we investigate ways to analyse, manipulate, reproject and visualize such data."
   ]
  },
  {
   "cell_type": "code",
   "execution_count": null,
   "metadata": {},
   "outputs": [],
   "source": [
    "%pip install numpy \\\n",
    "    matplotlib \\\n",
    "    scikit-image \\\n",
    "    flyr"
   ]
  },
  {
   "cell_type": "code",
   "execution_count": null,
   "metadata": {},
   "outputs": [],
   "source": [
    "import numpy as np\n",
    "import matplotlib.pyplot as plt\n",
    "from skimage import transform\n",
    "import flyr"
   ]
  },
  {
   "cell_type": "markdown",
   "metadata": {},
   "source": [
    "## Data I/O and Visualization\n",
    "\n",
    "First, we will retrieve and read in the two sample thermal images using the *flyr* module: "
   ]
  },
  {
   "cell_type": "code",
   "execution_count": null,
   "metadata": {},
   "outputs": [],
   "source": [
    "# download both sample images\n",
    "!wget https://github.com/Hochschule-fuer-Technik-Stuttgart/teaching-mommert/blob/main/thermal/thermal_imaging_flyr/img_1.jpg?raw=true -O img_1.jpg\n",
    "!wget https://github.com/Hochschule-fuer-Technik-Stuttgart/teaching-mommert/blob/main/thermal/thermal_imaging_flyr/img_2.jpg?raw=true -O img_2.jpg\n",
    "\n",
    "# reading in image 1\n",
    "flir_path_1 = \"img_1.jpg\"\n",
    "thermogram_1 = flyr.unpack(flir_path_1)\n",
    "\n",
    "# reading in image 2\n",
    "flir_path_2 = \"img_2.jpg\"\n",
    "thermogram_2 = flyr.unpack(flir_path_2)"
   ]
  },
  {
   "cell_type": "markdown",
   "metadata": {},
   "source": [
    "The thermograms can be converted into temperatures, using different scales. For instance, we can output the temperatures in units of Kelvins: "
   ]
  },
  {
   "cell_type": "code",
   "execution_count": null,
   "metadata": {},
   "outputs": [],
   "source": [
    "t = thermogram_1.kelvin\n",
    "t.shape, t.min(), t.mean(), t.max()"
   ]
  },
  {
   "cell_type": "markdown",
   "metadata": {},
   "source": [
    "... and degrees Celsius..."
   ]
  },
  {
   "cell_type": "code",
   "execution_count": null,
   "metadata": {},
   "outputs": [],
   "source": [
    "t = thermogram_1.celsius\n",
    "t.shape, t.min(), t.mean(), t.max()"
   ]
  },
  {
   "cell_type": "markdown",
   "metadata": {},
   "source": [
    "The temperature conversion uses a set of parameters, that are encoded as metadata in the underlying `jpg` files. We can access these parameters using"
   ]
  },
  {
   "cell_type": "code",
   "execution_count": null,
   "metadata": {},
   "outputs": [],
   "source": [
    "thermogram_1.metadata"
   ]
  },
  {
   "cell_type": "markdown",
   "metadata": {},
   "source": [
    "These parameters can be modified, for instance, to use a different emissivity. We will investigate this below.\n",
    "\n",
    "For now, let's plot the temperature array. Before we do so, we define a suitable colormap. Any of the colormaps listed [here](https://matplotlib.org/stable/gallery/color/colormap_reference.html) can be used. "
   ]
  },
  {
   "cell_type": "code",
   "execution_count": null,
   "metadata": {},
   "outputs": [],
   "source": [
    "cmap = 'rainbow'  # define colormap, feel free to try different colormaps styles\n",
    "\n",
    "im = plt.imshow(t, cmap=cmap)  # plot the temperature array\n",
    "plt.colorbar(im, label='Temperature (Celsius)')  # add a corresponding colorbar"
   ]
  },
  {
   "cell_type": "markdown",
   "metadata": {},
   "source": [
    "The image shows a thermogram of a plastered brick wall with different circular and rectangular signal markers attached. We will see below that the second image shows the same wall, taken from a different angle.\n",
    "\n",
    "Let's explore how we can alter the visualization of the data. Using the keyword arguments `vmin` and `vmax` of the `imshow` function, we can modify the range of values (here: temperatures) using our chosen colormap. In our example, the `vmin` temperature (and lower temperatures) will be displayed in purple and the `vmax` temperature (and higher temperatures) will be displayed in red. \n",
    "\n",
    "If we narrow the temperature range, temperature differences will be highlighted:"
   ]
  },
  {
   "cell_type": "code",
   "execution_count": null,
   "metadata": {},
   "outputs": [],
   "source": [
    "im = plt.imshow(t, cmap=cmap, vmin=22.5, vmax=23.5)  # vmin and vmax represent the temperatures displayed as purple and red, respectively\n",
    "plt.colorbar(im, label='Temperature (Celsius)')"
   ]
  },
  {
   "cell_type": "markdown",
   "metadata": {},
   "source": [
    "Since the temperature array `t` is simply a two-dimensional NumPy array, we can modify the temperature values using all available mathematical operators. Furthermore, temperature values can be extracted using indexing and slicing."
   ]
  },
  {
   "cell_type": "markdown",
   "metadata": {},
   "source": [
    "## Quantitative Analysis\n",
    "\n",
    "We extract a rectangular area between the signal markers with slicing and compute the median temperature in that area."
   ]
  },
  {
   "cell_type": "code",
   "execution_count": null,
   "metadata": {},
   "outputs": [],
   "source": [
    "area = t[100:300, 100:500]  # slice area (mind the order of coordinates here [y_min:y_max, x_min, x_max])\n",
    "np.median(area)  # compute the median temperature"
   ]
  },
  {
   "cell_type": "markdown",
   "metadata": {},
   "source": [
    "**Exercise**: Identify a homogeneous area (a single brick) close to the center of the image and extract that area using slicing. For that area, compute the mean (`np.mean()`) surface temperature and the corresponding NETD noise level as the standard deviation (`np.std()`) of the temperature values in this area."
   ]
  },
  {
   "cell_type": "code",
   "execution_count": null,
   "metadata": {},
   "outputs": [],
   "source": [
    "# use this cell for the exercise"
   ]
  },
  {
   "cell_type": "markdown",
   "metadata": {},
   "source": [
    "Now we will generate a horizontal temperature profile across the entire image width. We can extract a horizontal profile with slicing by simply extracting a single row. We pick a row that is not affected by any signal marker. "
   ]
  },
  {
   "cell_type": "code",
   "execution_count": null,
   "metadata": {},
   "outputs": [],
   "source": [
    "h_profile = t[280,:]  # we slice all columns for row 280\n",
    "\n",
    "# we display the pixel values (temperatures) in a line plot\n",
    "f, ax = plt.subplots()\n",
    "ax.plot(h_profile)\n",
    "ax.set_xlabel('x Coordinate') \n",
    "ax.set_ylabel('Temperature (°C)')"
   ]
  },
  {
   "cell_type": "markdown",
   "metadata": {},
   "source": [
    "The line profile shows variations through noise and image features (e.g., the brick gaps at x-coordinates 90, 260, 440 and 610), as well as a general gradient. "
   ]
  },
  {
   "cell_type": "markdown",
   "metadata": {},
   "source": [
    "## Matching Images\n",
    "\n",
    "We will now project both images into the same coordinate frame to see whether there are significant differences in their thermal signature. Before we do so, we display both images next to each other. Since we will have to read coordinates for the signal markers, we will choose a denser tick-level and add a grid."
   ]
  },
  {
   "cell_type": "code",
   "execution_count": null,
   "metadata": {},
   "outputs": [],
   "source": [
    "f, ax = plt.subplots(1, 2, figsize=(12, 25))  # create a composite plot with two axes next to each other\n",
    "\n",
    "# plot image 1\n",
    "t = thermogram_1.celsius  # temperature data for image 1 in degrees Celsius\n",
    "ax[0].imshow(t, cmap=cmap)\n",
    "ax[0].set_title('Image 1')\n",
    "ax[0].set_xticks(np.arange(0, t.shape[1], 50))  # modify x ticks \n",
    "ax[0].set_yticks(np.arange(0, t.shape[0], 50))  # modify y ticks\n",
    "ax[0].grid()  # add a grid\n",
    "\n",
    "# plot image 2\n",
    "t = thermogram_2.celsius\n",
    "ax[1].imshow(t, cmap=cmap)\n",
    "ax[1].set_title('Image 2')\n",
    "ax[1].set_xticks(np.arange(0, t.shape[1], 50))\n",
    "ax[1].set_yticks(np.arange(0, t.shape[0], 50))\n",
    "ax[1].grid()\n"
   ]
  },
  {
   "cell_type": "markdown",
   "metadata": {},
   "source": [
    "Both images appear to use slightly different temperature ranges. Nevertheless, the signal markers are easy to find in each image.\n",
    "\n",
    "**Exercise**: Extract the positions of all four circular markers in both images and fill them into the arrays below. Be careful to follow the exact schema as shown below.  "
   ]
  },
  {
   "cell_type": "code",
   "execution_count": null,
   "metadata": {},
   "outputs": [],
   "source": [
    "# use the following schema:\n",
    "# coo = np.array([(y top left, x top left), (y top right, x top right), (y bottom right, x bottom right), (y bottom left, x bottom left)])\n",
    "\n",
    "coo_1 = np.array([]) # marker positions for image 1, fill coordinates here!\n",
    "coo_2 = np.array([]) # marker positions for image 2, fill coordinates here!"
   ]
  },
  {
   "cell_type": "markdown",
   "metadata": {},
   "source": [
    "We will now plot the extracted coordinates on both images (only possible after completing the corresponding exercise). Take this opportunity to correct the coordinates, if necessary.  "
   ]
  },
  {
   "cell_type": "code",
   "execution_count": null,
   "metadata": {},
   "outputs": [],
   "source": [
    "f, ax = plt.subplots(1, 2, figsize=(12, 25))\n",
    "\n",
    "# plot image 1\n",
    "t = thermogram_1.celsius\n",
    "ax[0].imshow(t, cmap=cmap)\n",
    "ax[0].set_title('Image 1')\n",
    "ax[0].scatter(coo_1[:, 0], coo_1[:, 1], c='black')\n",
    "\n",
    "# plot image 2\n",
    "t = thermogram_2.celsius\n",
    "ax[1].imshow(t, cmap=cmap)\n",
    "ax[1].set_title('Image 2')\n",
    "ax[1].scatter(coo_2[:, 0], coo_2[:, 1], c='black')\n"
   ]
  },
  {
   "cell_type": "markdown",
   "metadata": {},
   "source": [
    "Once the correct coordinates have been extracted, we can transform the second thermogram into the reference frame of the first thermogram. We will use the `ProjectiveTransform` class from `skimage.transform` for this purpose. This class enables a full projective reprojection of the second image on the first image. Be aware that the reprojection only provides a useful result if the marker coordinates have been chosen properly. "
   ]
  },
  {
   "cell_type": "code",
   "execution_count": null,
   "metadata": {},
   "outputs": [],
   "source": [
    "tform = transform.ProjectiveTransform()  # instantiate projective transformation class\n",
    "tform.estimate(coo_1, coo_2)  # estimate projective transformation paramterers \n",
    "t2_warped = transform.warp(t, tform, output_shape=t.shape, mode='reflect')  # perform reprojection on original temperature data from thermogram_2 "
   ]
  },
  {
   "cell_type": "markdown",
   "metadata": {},
   "source": [
    "We can now display the warped version of the second thermogram:"
   ]
  },
  {
   "cell_type": "code",
   "execution_count": null,
   "metadata": {},
   "outputs": [],
   "source": [
    "im = plt.imshow(t2_warped, vmin=22, vmax=26, cmap=cmap)\n",
    "plt.colorbar(im, label='Temperature (Celsius)')"
   ]
  },
  {
   "cell_type": "markdown",
   "metadata": {},
   "source": [
    "This looks familiar and indeed resembles the visualization of the first thermogram very much.\n",
    "\n",
    "We will now perform a quantitative comparison of the first thermogram and the warped second thermogram to check for differences. To do so, we compute the pixel-wise difference between the first thermogram and the warped second thermogram: "
   ]
  },
  {
   "cell_type": "code",
   "execution_count": null,
   "metadata": {},
   "outputs": [],
   "source": [
    "t1 = thermogram_1.celsius\n",
    "diff = t1-t2_warped  # compute pixel-wise difference"
   ]
  },
  {
   "cell_type": "markdown",
   "metadata": {},
   "source": [
    "We plot the temperature differences:"
   ]
  },
  {
   "cell_type": "code",
   "execution_count": null,
   "metadata": {},
   "outputs": [],
   "source": [
    "im = plt.imshow(diff, vmin=-1, vmax=1, cmap=cmap)\n",
    "plt.colorbar(im, label='Temperature Difference (Kelvin)')"
   ]
  },
  {
   "cell_type": "markdown",
   "metadata": {},
   "source": [
    "The temperature differences are rather homogeneous and close to zero in most locations - except for the signal markers, which serve as reflectors and show different temperatures.\n",
    "\n",
    "**Exercise**: Quantify the temperature difference by creating (1) one horizontal line profile and (2) one vertical line profile across the temperature difference map. Avoid areas that fall on signal markers. For each profile, compute the mean temperature difference and the corresponding standard deviation."
   ]
  },
  {
   "cell_type": "code",
   "execution_count": null,
   "metadata": {},
   "outputs": [],
   "source": [
    "# use this cell for the exercise"
   ]
  },
  {
   "cell_type": "markdown",
   "metadata": {},
   "source": [
    "## Adjusting Camera Parameters\n",
    "\n",
    "We have seen above that we can access the camera parameters, such as `emissivity`, `object_distance`, `atmospheric_temperature`, `reflected_apparent_temperature` or `relative_humidity`, that were used at the time of observation.\n",
    "\n",
    "We will now see that we can modify these parameters in the post processing of the data.\n",
    "\n",
    "To do so, we simply have to use the `adjust_metadata` method on the parameter in question and retrieve the new temperature data from the modified thermogram."
   ]
  },
  {
   "cell_type": "code",
   "execution_count": null,
   "metadata": {},
   "outputs": [],
   "source": [
    "thermogram_1_mod = thermogram_1.adjust_metadata(emissivity=0.7)  # modify the emissivity in the thermogram\n",
    "t1_mod = thermogram_1_mod.celsius  # retrieve modified temperature data\n",
    "np.mean(t1 - t1_mod)  # compute mean temperature difference between original and modified thermogram"
   ]
  },
  {
   "cell_type": "markdown",
   "metadata": {},
   "source": [
    "**Exercise**: Play with the parameters `emissivity`, `atmospheric_temperature`, and `reflected_apparent_temperature`. How does an increase/decrease in these parameters affect the temperature distribution? "
   ]
  },
  {
   "cell_type": "markdown",
   "metadata": {},
   "source": [
    "## Saving Images to File\n",
    "\n",
    "Finally, we can save our thermograms to file. To do so, we generate a rendering of our data using a specific color palette and temperature range (`min_v` and `max_v`) and then use the `save` method to write it to file. Note that as a result, the new image file will be stripped of its raw data. This means that we cannot read in this new file with the *flyr* module."
   ]
  },
  {
   "cell_type": "code",
   "execution_count": null,
   "metadata": {},
   "outputs": [],
   "source": [
    "t_pil = thermogram_1.render_pil(unit='celsius', palette='jet', min_v=22, max_v=26).save(\"test.png\")\n"
   ]
  }
 ],
 "metadata": {
  "kernelspec": {
   "display_name": "base",
   "language": "python",
   "name": "python3"
  },
  "language_info": {
   "codemirror_mode": {
    "name": "ipython",
    "version": 3
   },
   "file_extension": ".py",
   "mimetype": "text/x-python",
   "name": "python",
   "nbconvert_exporter": "python",
   "pygments_lexer": "ipython3",
   "version": "3.11.5"
  }
 },
 "nbformat": 4,
 "nbformat_minor": 2
}
